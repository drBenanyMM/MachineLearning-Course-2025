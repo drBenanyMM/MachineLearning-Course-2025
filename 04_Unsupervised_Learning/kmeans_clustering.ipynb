{
 "cells": [
  {
   "cell_type": "markdown",
   "id": "b4ef9bda-9642-4bd4-be78-c0ea0d5acd82",
   "metadata": {},
   "source": [
    "# Algorithme de Clustering K-Means\n",
    "\n",
    "## Introduction\n",
    "K-Means est un algorithme de clustering largement utilisé en fdata mining pour partitionner un ensemble de données en $𝑘$ clusters. Chaque cluster est défini par son $centroïde$, et l'algorithme attribue itérativement des points aux clusters et met à jour les centroïdes jusqu'à convergence.\n",
    "\n",
    "## Étapes de l'algorithme\n",
    "\n",
    "### Entrées :\n",
    "1. $ X $= $\\{x_1, x_2, \\dots, x_n\\} $: Un ensemble de points de données..\n",
    "2. $ k $: Nombre de clusters.\n",
    "3. $ \\epsilon $: Seuil de convergence.\n",
    "\n",
    "### Sorties :\n",
    "1. $ C = \\{C_1, C_2, \\dots, C_k\\} $: L'ensemble des clusters.\n",
    "2. $ \\mu_1, \\mu_2, \\dots, \\mu_k $: TLes centroïdes des clusters\n",
    "\n",
    "### Pseudo-code:\n",
    "1. **Initialisation**: Initialiser aléatoirement $ k $ centroïdes $ \\mu_1, \\mu_2, \\dots, \\mu_k $.\n",
    "2. **Répéter**:\n",
    "   - **Étape d'assignation**:  \n",
    "     Pour chaque point $ x \\in X $, assigner  $ x $ au cluster $ C_j $ tel que:  \n",
    "     $\n",
    "     j = \\arg\\min_{1 \\leq j \\leq k} \\|x - \\mu_j\\|^2\n",
    "     $\n",
    "   - **Étape de mise à jour**:  \n",
    "     Pour chaque cluster $ C_j $, mettre à jour le centroïde :  \n",
    "     $\n",
    "     \\mu_j \\leftarrow \\frac{1}{|C_j|} \\sum_{x \\in C_j} x\n",
    "     $\n",
    "3. **Jusqu'à**: Convergence des centroïdes (c.-à-d., lorsque le changement des centroïdes est $ \\leq \\epsilon $).\n",
    "\n",
    "\n",
    "### Formulation mathématique\n",
    "L'objectif de K-Means est de minimiser **la somme des carrés intra-cluster (WCSS)** :\n",
    "$\n",
    "J = \\sum_{j=1}^k \\sum_{x \\in C_j} \\|x - \\mu_j\\|^2\n",
    "$\n",
    "Où :\n",
    "- $ \\|x - \\mu_j\\| $ est la distance euclidienne entre le point $ x $ et le centroïde $ \\mu_j $.\n",
    "---"
   ]
  },
  {
   "cell_type": "code",
   "execution_count": 84,
   "id": "20a5501b-be6b-411f-81ea-c2c02c3180c1",
   "metadata": {},
   "outputs": [],
   "source": [
    "import pandas as pd\n",
    "import numpy as np\n",
    "import matplotlib.pyplot as plt\n",
    "import math"
   ]
  },
  {
   "cell_type": "code",
   "execution_count": 85,
   "id": "c39cc683-f481-4413-a380-820c7f5a8eba",
   "metadata": {},
   "outputs": [],
   "source": [
    "# Fonction pour la distance euclidienne\n",
    "def euclidean_distance(point1, point2):\n",
    "    \"\"\"Calculer la distance euclidienne entre deux points.\"\"\"\n",
    "    return math.sqrt((point2[0] - point1[0])**2 + (point2[1] - point1[1])**2)"
   ]
  },
  {
   "cell_type": "code",
   "execution_count": 86,
   "id": "99273744-cf1c-476e-a588-1f67c7b25d71",
   "metadata": {},
   "outputs": [],
   "source": [
    "def manhattan_distance(point1, point2):\n",
    "    \"\"\"Calculer la distance de Manhattan entre deux points.\"\"\"\n",
    "    return abs(point2[0] - point1[0]) + abs(point2[1] - point1[1])"
   ]
  },
  {
   "cell_type": "code",
   "execution_count": 87,
   "id": "f8eaee58-005f-4f6e-ac20-b190e89ac225",
   "metadata": {},
   "outputs": [],
   "source": [
    "def minkowski_distance(point1, point2, p=2):\n",
    "    \"\"\"Calculer la distance de Minkowski entre deux points.\"\"\"\n",
    "    return (abs(point2[0] - point1[0])**p + abs(point2[1] - point1[1])**p)**(1/p)"
   ]
  },
  {
   "cell_type": "code",
   "execution_count": 88,
   "id": "e1e0679c-10d1-4d8c-bb5f-b620d158beb5",
   "metadata": {},
   "outputs": [],
   "source": [
    "# Charger les données\n",
    "file_path = 'data/exo1.csv'  # Assurez-vous que le fichier exo1.csv est dans le bon répertoire\n",
    "data = pd.read_csv(file_path)"
   ]
  },
  {
   "cell_type": "code",
   "execution_count": 89,
   "id": "b16f7101-a5ff-4f84-9971-ab7a24cc4892",
   "metadata": {},
   "outputs": [],
   "source": [
    "# Centroides initiaux (choisis manuellement ou aléatoirement)\n",
    "initial_centroids = {\n",
    "    'C1': (2, 10),\n",
    "    'C2': (5, 8),\n",
    "    'C3': (1, 2)\n",
    "}"
   ]
  },
  {
   "cell_type": "code",
   "execution_count": 90,
   "id": "7e1cdf19-faf6-4a5d-ba6c-755abf179345",
   "metadata": {},
   "outputs": [],
   "source": [
    "def assign_clusters(data, centroids):\n",
    "    \"\"\"Assigner chaque point au cluster le plus proche.\"\"\"\n",
    "    clusters = []\n",
    "    for _, row in data.iterrows():\n",
    "        distances = {key: euclidean_distance((row['X'], row['Y']), value) for key, value in centroids.items()}\n",
    "        cluster = min(distances, key=distances.get)\n",
    "        clusters.append(cluster)\n",
    "    data['Cluster'] = clusters\n",
    "    return data\n",
    "    "
   ]
  },
  {
   "cell_type": "code",
   "execution_count": 91,
   "id": "9032af37-134a-4bf2-9d65-d0e9f00c6b8d",
   "metadata": {},
   "outputs": [],
   "source": [
    "def update_centroids(data):\n",
    "    \"\"\"Mettre à jour les centroïdes en calculant la moyenne des points de chaque cluster.\"\"\"\n",
    "    new_centroids = {}\n",
    "    for cluster in data['Cluster'].unique():\n",
    "        cluster_points = data[data['Cluster'] == cluster]\n",
    "        new_x = cluster_points['X'].mean()\n",
    "        new_y = cluster_points['Y'].mean()\n",
    "        new_centroids[cluster] = (new_x, new_y)\n",
    "    return new_centroids"
   ]
  },
  {
   "cell_type": "code",
   "execution_count": 92,
   "id": "df4133b5-eb1e-4c91-a23c-2aaa13a1360d",
   "metadata": {},
   "outputs": [],
   "source": [
    "def kmeans(data, initial_centroids, max_iterations=10, tolerance=1e-4):\n",
    "    \"\"\"\n",
    "    Implémentation de l'algorithme K-Means.\n",
    "\n",
    "    Paramètres :\n",
    "        - data : pd.DataFrame contenant les colonnes 'X1' et 'X2' représentant les coordonnées des points.\n",
    "        - initial_centroids : dict contenant les centroïdes initiaux (par exemple {'C1': (x1, x2), 'C2': (x2, y2)}).\n",
    "        - max_iterations : int, le nombre maximum d'itérations avant arrêt.\n",
    "        - tolerance : float, seuil de tolérance pour vérifier la convergence.\n",
    "\n",
    "    Retourne :\n",
    "        - data : pd.DataFrame avec les colonnes 'Point', 'X', 'Y', et 'Cluster'.\n",
    "        - centroids : dict contenant les centroïdes finaux.\n",
    "    \"\"\"\n",
    "    centroids = initial_centroids\n",
    "    for i in range(max_iterations):\n",
    "        print(f\"\\nItération {i + 1}\")\n",
    "        data = assign_clusters(data, centroids)\n",
    "        print(data[['Point', 'Cluster']])\n",
    "        \n",
    "        new_centroids = update_centroids(data)\n",
    "        \n",
    "        # Vérifier la convergence\n",
    "        convergence = all(\n",
    "            euclidean_distance(centroids[key], new_centroids[key]) <= tolerance\n",
    "            for key in centroids.keys()\n",
    "        )\n",
    "        \n",
    "        if convergence:\n",
    "            print(\"Convergence atteinte. Les centroïdes ne changent plus.\")\n",
    "            break\n",
    "        \n",
    "        centroids = new_centroids\n",
    "        print(f\"Nouveaux centroïdes : {centroids}\")\n",
    "    \n",
    "    return data, centroids"
   ]
  },
  {
   "cell_type": "code",
   "execution_count": 93,
   "id": "1016a076-5ab2-4153-8495-39095a080d93",
   "metadata": {},
   "outputs": [
    {
     "name": "stdout",
     "output_type": "stream",
     "text": [
      "\n",
      "Itération 1\n",
      "  Point Cluster\n",
      "0    A1      C1\n",
      "1    A2      C3\n",
      "2    A3      C2\n",
      "3    B1      C2\n",
      "4    B2      C2\n",
      "5    B3      C2\n",
      "6    C1      C3\n",
      "7    C2      C2\n",
      "Nouveaux centroïdes : {'C1': (2.0, 10.0), 'C3': (1.5, 3.5), 'C2': (6.0, 6.0)}\n",
      "\n",
      "Itération 2\n",
      "  Point Cluster\n",
      "0    A1      C1\n",
      "1    A2      C3\n",
      "2    A3      C2\n",
      "3    B1      C2\n",
      "4    B2      C2\n",
      "5    B3      C2\n",
      "6    C1      C3\n",
      "7    C2      C1\n",
      "Nouveaux centroïdes : {'C1': (3.0, 9.5), 'C3': (1.5, 3.5), 'C2': (6.5, 5.25)}\n",
      "\n",
      "Itération 3\n",
      "  Point Cluster\n",
      "0    A1      C1\n",
      "1    A2      C3\n",
      "2    A3      C2\n",
      "3    B1      C1\n",
      "4    B2      C2\n",
      "5    B3      C2\n",
      "6    C1      C3\n",
      "7    C2      C1\n",
      "Nouveaux centroïdes : {'C1': (3.6666666666666665, 9.0), 'C3': (1.5, 3.5), 'C2': (7.0, 4.333333333333333)}\n",
      "\n",
      "Itération 4\n",
      "  Point Cluster\n",
      "0    A1      C1\n",
      "1    A2      C3\n",
      "2    A3      C2\n",
      "3    B1      C1\n",
      "4    B2      C2\n",
      "5    B3      C2\n",
      "6    C1      C3\n",
      "7    C2      C1\n",
      "Convergence atteinte. Les centroïdes ne changent plus.\n"
     ]
    },
    {
     "data": {
      "image/png": "[encoded data removed]",
      "text/plain": [
       "<Figure size 800x600 with 1 Axes>"
      ]
     },
     "metadata": {},
     "output_type": "display_data"
    }
   ],
   "source": [
    "# Exécuter K-Means avec la distance choisie\n",
    "final_data, final_centroids = kmeans(data, initial_centroids)\n",
    "\n",
    "\n",
    "# Visualisation des clusters\n",
    "plt.figure(figsize=(8, 6))\n",
    "\n",
    "# Associer des couleurs aux clusters\n",
    "colors = {'C1': 'red', 'C2': 'blue', 'C3': 'green'}\n",
    "\n",
    "for cluster in final_data['Cluster'].unique():\n",
    "    cluster_data = final_data[final_data['Cluster'] == cluster]\n",
    "    plt.scatter(cluster_data['X'], cluster_data['Y'], color=colors[cluster], label=f'Cluster {cluster}')\n",
    "\n",
    "# Ploter les centroïdes finaux\n",
    "for centroid, coord in final_centroids.items():\n",
    "    plt.scatter(coord[0], coord[1], color='black', marker='X', s=200, label=f'Centroid {centroid}')\n",
    "\n",
    "# Ajouter des labels et une légende\n",
    "plt.title('K-Means Clustering Visualization')\n",
    "plt.xlabel('X1')\n",
    "plt.ylabel('X2')\n",
    "plt.legend()\n",
    "plt.grid()\n",
    "plt.show()"
   ]
  },
  {
   "cell_type": "code",
   "execution_count": null,
   "id": "bb90a2d8-703d-4879-8aa4-d285b36c5bc1",
   "metadata": {},
   "outputs": [],
   "source": []
  }
 ],
 "metadata": {
  "kernelspec": {
   "display_name": "Python 3 (ipykernel)",
   "language": "python",
   "name": "python3"
  },
  "language_info": {
   "codemirror_mode": {
    "name": "ipython",
    "version": 3
   },
   "file_extension": ".py",
   "mimetype": "text/x-python",
   "name": "python",
   "nbconvert_exporter": "python",
   "pygments_lexer": "ipython3",
   "version": "3.12.7"
  }
 },
 "nbformat": 4,
 "nbformat_minor": 5
}
